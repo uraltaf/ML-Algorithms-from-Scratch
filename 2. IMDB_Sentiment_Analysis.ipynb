{
 "cells": [
  {
   "cell_type": "markdown",
   "id": "21960eb3-a6bb-4087-a776-c334b32ee084",
   "metadata": {},
   "source": [
    "<h1><center>NLP: IMDb Sentiment analysis</center></h1>\n",
    "<h3><center>Presented by: Altaf Ur Rahman</center></h3>\n"
   ]
  },
  {
   "cell_type": "markdown",
   "id": "c1ac813b-43f1-454e-87eb-6b258ed8fd7e",
   "metadata": {},
   "source": [
    "***\n",
    "*This notebook presents sentiment analysis on IMDB Dataset. The data set consist of balanced positive and negative 50000 samples. Data is split into training/testing sets with a ratio of 70/30. The data was pre processed and then fed to a Logistic Regression Classifier. Overall we got close to 90% accuracy. Finally we can test the model with a custom query.*\n",
    "***\n",
    "Following are the sections of this notebook, \n",
    "\n",
    "**Step 01:** *Importing librararies*\\\n",
    "**Step 02:** *Reading and visualizing the data*\\\n",
    "**Step 03**: *Data Pre Processing* \\\n",
    "&emsp; &emsp;(1) *Adding word count to the DataFrame*\\\n",
    "&emsp; &emsp;  (2) *Replace sentiments with numerical values* \\\n",
    "&emsp; &emsp;  (3) *Text Cleaning*\\\n",
    "&emsp; &emsp;   (4) *Remove Duplicate reviews*\\\n",
    "&emsp; &emsp;   (5) *Reduce words to their roots*\\\n",
    "&emsp; &emsp;   (6) *Count the new word count and replace it in the DataFrame* \\\n",
    "&emsp; &emsp;   (7) *Applying TFIDF to the data*\\\n",
    "&emsp; &emsp;  (8) *Splitting the data into training and testing sets*\\\n",
    "**Step 04:** *Training and Testing the model*\\\n",
    "**Step 05:** *Testing with custom Input*"
   ]
  },
  {
   "cell_type": "markdown",
   "id": "6126b8d8-4960-4f31-bd49-1c771fccc06e",
   "metadata": {},
   "source": [
    "***\n",
    "\n",
    "<center> Step 01: Importing librararies </center>\n",
    "\n",
    "***"
   ]
  },
  {
   "cell_type": "code",
   "execution_count": 1,
   "id": "8d78781e-4791-459a-a7e1-63ad31c2fb4d",
   "metadata": {},
   "outputs": [],
   "source": [
    "# Turn off warnings\n",
    "import warnings\n",
    "warnings.filterwarnings(\"ignore\")\n",
    "import re\n",
    "\n",
    "# Data loading and plotting libraries\n",
    "import pandas as pd\n",
    "import matplotlib.pyplot as plt\n",
    "import seaborn as sns\n",
    "\n",
    "# Import NLP related libraries\n",
    "import nltk\n",
    "from nltk.tokenize import word_tokenize\n",
    "from nltk.stem import PorterStemmer\n",
    "from nltk.corpus import stopwords\n",
    "stop_words = set(stopwords.words('english'))\n",
    "from wordcloud import WordCloud\n",
    "\n",
    "# Import Models etc\n",
    "\n",
    "from sklearn.linear_model import LogisticRegression\n",
    "from sklearn.metrics import accuracy_score, classification_report, confusion_matrix\n",
    "from sklearn.feature_extraction.text import TfidfVectorizer\n",
    "from sklearn.model_selection import train_test_split\n"
   ]
  },
  {
   "cell_type": "markdown",
   "id": "44af0f15-4d11-471d-aa5f-c7bc92e9b13b",
   "metadata": {},
   "source": [
    "*** \n",
    "<center> Step 02: Read the DataSet and Visualize it </center>\n",
    "\n",
    "***"
   ]
  },
  {
   "cell_type": "code",
   "execution_count": 2,
   "id": "f0ccc57a-9ac5-4b30-9266-2cf1b653926f",
   "metadata": {},
   "outputs": [
    {
     "name": "stdout",
     "output_type": "stream",
     "text": [
      "No of examples :  50000\n"
     ]
    },
    {
     "data": {
      "text/html": [
       "<div>\n",
       "<style scoped>\n",
       "    .dataframe tbody tr th:only-of-type {\n",
       "        vertical-align: middle;\n",
       "    }\n",
       "\n",
       "    .dataframe tbody tr th {\n",
       "        vertical-align: top;\n",
       "    }\n",
       "\n",
       "    .dataframe thead th {\n",
       "        text-align: right;\n",
       "    }\n",
       "</style>\n",
       "<table border=\"1\" class=\"dataframe\">\n",
       "  <thead>\n",
       "    <tr style=\"text-align: right;\">\n",
       "      <th></th>\n",
       "      <th>review</th>\n",
       "      <th>sentiment</th>\n",
       "    </tr>\n",
       "  </thead>\n",
       "  <tbody>\n",
       "    <tr>\n",
       "      <th>0</th>\n",
       "      <td>One of the other reviewers has mentioned that ...</td>\n",
       "      <td>positive</td>\n",
       "    </tr>\n",
       "    <tr>\n",
       "      <th>1</th>\n",
       "      <td>A wonderful little production. &lt;br /&gt;&lt;br /&gt;The...</td>\n",
       "      <td>positive</td>\n",
       "    </tr>\n",
       "    <tr>\n",
       "      <th>2</th>\n",
       "      <td>I thought this was a wonderful way to spend ti...</td>\n",
       "      <td>positive</td>\n",
       "    </tr>\n",
       "    <tr>\n",
       "      <th>3</th>\n",
       "      <td>Basically there's a family where a little boy ...</td>\n",
       "      <td>negative</td>\n",
       "    </tr>\n",
       "    <tr>\n",
       "      <th>4</th>\n",
       "      <td>Petter Mattei's \"Love in the Time of Money\" is...</td>\n",
       "      <td>positive</td>\n",
       "    </tr>\n",
       "  </tbody>\n",
       "</table>\n",
       "</div>"
      ],
      "text/plain": [
       "                                              review sentiment\n",
       "0  One of the other reviewers has mentioned that ...  positive\n",
       "1  A wonderful little production. <br /><br />The...  positive\n",
       "2  I thought this was a wonderful way to spend ti...  positive\n",
       "3  Basically there's a family where a little boy ...  negative\n",
       "4  Petter Mattei's \"Love in the Time of Money\" is...  positive"
      ]
     },
     "execution_count": 2,
     "metadata": {},
     "output_type": "execute_result"
    }
   ],
   "source": [
    "DS = pd.read_csv('IMDB Dataset.csv')\n",
    "print ('No of examples : ', DS.shape[0])\n",
    "DS.head()"
   ]
  },
  {
   "cell_type": "code",
   "execution_count": 3,
   "id": "93e81627-a12c-4c0a-967c-5196714c87d5",
   "metadata": {},
   "outputs": [
    {
     "data": {
      "text/plain": [
       "Text(0.5, 1.0, 'Count of Positive and negative Sentiments')"
      ]
     },
     "execution_count": 3,
     "metadata": {},
     "output_type": "execute_result"
    },
    {
     "data": {
      "image/png": "[encoded data removed]",
      "text/plain": [
       "<Figure size 640x480 with 1 Axes>"
      ]
     },
     "metadata": {},
     "output_type": "display_data"
    }
   ],
   "source": [
    "# We have a balance dataset of positive and negative examples\n",
    "sns.countplot(x= 'sentiment', data = DS)\n",
    "plt.title(\"Count of Positive and negative Sentiments\")\n"
   ]
  },
  {
   "cell_type": "markdown",
   "id": "4a211d8d-93a6-4b23-ab3d-c177649d0b6b",
   "metadata": {},
   "source": [
    "***\n",
    "\n",
    "**Step 03**: *Data Pre Processing* \\\n",
    "&emsp; &emsp;(1) *Adding word count to the DataFrame*\\\n",
    "&emsp; &emsp;  (2) *Replace sentiments with numerical values* \\\n",
    "&emsp; &emsp;  (3) *Text Cleaning*\\\n",
    "&emsp; &emsp;   (4) *Remove Duplicate reviews*\\\n",
    "&emsp; &emsp;   (5) *Reduce words to their roots*\\\n",
    "&emsp; &emsp;   (6) *Count the new word count and replace it in the DataFrame* \\\n",
    "&emsp; &emsp;   (7) *Applying TFIDF to the data*\\\n",
    "&emsp; &emsp;  (8) *Splitting the data into training and training sets*\n",
    "***"
   ]
  },
  {
   "cell_type": "code",
   "execution_count": 4,
   "id": "101b116b-e808-4cb9-8a12-56954375f984",
   "metadata": {},
   "outputs": [
    {
     "data": {
      "text/html": [
       "<div>\n",
       "<style scoped>\n",
       "    .dataframe tbody tr th:only-of-type {\n",
       "        vertical-align: middle;\n",
       "    }\n",
       "\n",
       "    .dataframe tbody tr th {\n",
       "        vertical-align: top;\n",
       "    }\n",
       "\n",
       "    .dataframe thead th {\n",
       "        text-align: right;\n",
       "    }\n",
       "</style>\n",
       "<table border=\"1\" class=\"dataframe\">\n",
       "  <thead>\n",
       "    <tr style=\"text-align: right;\">\n",
       "      <th></th>\n",
       "      <th>review</th>\n",
       "      <th>sentiment</th>\n",
       "      <th>word count</th>\n",
       "    </tr>\n",
       "  </thead>\n",
       "  <tbody>\n",
       "    <tr>\n",
       "      <th>0</th>\n",
       "      <td>One of the other reviewers has mentioned that ...</td>\n",
       "      <td>positive</td>\n",
       "      <td>307</td>\n",
       "    </tr>\n",
       "    <tr>\n",
       "      <th>1</th>\n",
       "      <td>A wonderful little production. &lt;br /&gt;&lt;br /&gt;The...</td>\n",
       "      <td>positive</td>\n",
       "      <td>162</td>\n",
       "    </tr>\n",
       "    <tr>\n",
       "      <th>2</th>\n",
       "      <td>I thought this was a wonderful way to spend ti...</td>\n",
       "      <td>positive</td>\n",
       "      <td>166</td>\n",
       "    </tr>\n",
       "    <tr>\n",
       "      <th>3</th>\n",
       "      <td>Basically there's a family where a little boy ...</td>\n",
       "      <td>negative</td>\n",
       "      <td>138</td>\n",
       "    </tr>\n",
       "    <tr>\n",
       "      <th>4</th>\n",
       "      <td>Petter Mattei's \"Love in the Time of Money\" is...</td>\n",
       "      <td>positive</td>\n",
       "      <td>230</td>\n",
       "    </tr>\n",
       "  </tbody>\n",
       "</table>\n",
       "</div>"
      ],
      "text/plain": [
       "                                              review sentiment  word count\n",
       "0  One of the other reviewers has mentioned that ...  positive         307\n",
       "1  A wonderful little production. <br /><br />The...  positive         162\n",
       "2  I thought this was a wonderful way to spend ti...  positive         166\n",
       "3  Basically there's a family where a little boy ...  negative         138\n",
       "4  Petter Mattei's \"Love in the Time of Money\" is...  positive         230"
      ]
     },
     "execution_count": 4,
     "metadata": {},
     "output_type": "execute_result"
    }
   ],
   "source": [
    "# (1) Adding word count to the dataframe\n",
    "def no_of_words(text):\n",
    "    words= text.split()\n",
    "    word_count = len(words)\n",
    "    return word_count\n",
    "\n",
    "DS['word count'] = DS['review'].apply(no_of_words)\n",
    "DS.head()"
   ]
  },
  {
   "cell_type": "code",
   "execution_count": 5,
   "id": "fcf97287-fd27-4aeb-9703-4dd40ca424c1",
   "metadata": {},
   "outputs": [],
   "source": [
    "#(2) Replace sentiments with numerical values\n",
    "DS.sentiment.replace(\"positive\", 1, inplace=True)\n",
    "DS.sentiment.replace(\"negative\", 0, inplace=True)"
   ]
  },
  {
   "cell_type": "code",
   "execution_count": 6,
   "id": "dbf05744-78bf-45eb-8030-0aa88d1844f8",
   "metadata": {},
   "outputs": [
    {
     "name": "stdout",
     "output_type": "stream",
     "text": [
      "Original review:  One of the other reviewers has mentioned that after watching just 1 Oz episode you'll be hooked. They are right, as this is exactly what happened with me.<br /><br />The first thing that struck me about Oz was its brutality and unflinching scenes of violence, which set in right from the word GO. Trust me, this is not a show for the faint hearted or timid. This show pulls no punches with regards to drugs, sex or violence. Its is hardcore, in the classic use of the word.<br /><br />It is called OZ as that is the nickname given to the Oswald Maximum Security State Penitentary. It focuses mainly on Emerald City, an experimental section of the prison where all the cells have glass fronts and face inwards, so privacy is not high on the agenda. Em City is home to many..Aryans, Muslims, gangstas, Latinos, Christians, Italians, Irish and more....so scuffles, death stares, dodgy dealings and shady agreements are never far away.<br /><br />I would say the main appeal of the show is due to the fact that it goes where other shows wouldn't dare. Forget pretty pictures painted for mainstream audiences, forget charm, forget romance...OZ doesn't mess around. The first episode I ever saw struck me as so nasty it was surreal, I couldn't say I was ready for it, but as I watched more, I developed a taste for Oz, and got accustomed to the high levels of graphic violence. Not just violence, but injustice (crooked guards who'll be sold out for a nickel, inmates who'll kill on order and get away with it, well mannered, middle class inmates being turned into prison bitches due to their lack of street skills or prison experience) Watching Oz, you may become comfortable with what is uncomfortable viewing....thats if you can get in touch with your darker side. \n",
      "\n",
      "Processed review:  one reviewers mentioned watching 1 oz episode youll hooked right exactly happened methe first thing struck oz brutality unflinching scenes violence set right word go trust show faint hearted timid show pulls punches regards drugs sex violence hardcore classic use wordit called oz nickname given oswald maximum security state penitentary focuses mainly emerald city experimental section prison cells glass fronts face inwards privacy high agenda em city home manyaryans muslims gangstas latinos christians italians irish moreso scuffles death stares dodgy dealings shady agreements never far awayi would say main appeal show due fact goes shows wouldnt dare forget pretty pictures painted mainstream audiences forget charm forget romanceoz doesnt mess around first episode ever saw struck nasty surreal couldnt say ready watched developed taste oz got accustomed high levels graphic violence violence injustice crooked guards wholl sold nickel inmates wholl kill order get away well mannered middle class inmates turned prison bitches due lack street skills prison experience watching oz may become comfortable uncomfortable viewingthats get touch darker side\n"
     ]
    }
   ],
   "source": [
    "# (3):  Text Cleaning\n",
    "\n",
    "def Text_Cleaning(text):\n",
    "# convert text to lowercase\n",
    "    text= text.lower()\n",
    "# remove <br /> from text\n",
    "    text = re.sub('<br />', '', text)\n",
    "# remove links starting with https, www, and http. remove if it also extends to multiple lines\n",
    "    text = re.sub(r\"https\\S+|www\\S+|http\\S+\", '', text, flags = re.MULTILINE)\n",
    "# remove text with @words and hashtags #\n",
    "    text = re.sub(r'\\@w+|\\#', '', text)\n",
    "# remove non word and non white space characters\n",
    "    text = re.sub(r'[^\\w\\s]', '', text)\n",
    "\n",
    "\n",
    "# split the text into individual words\n",
    "    text_tokens = word_tokenize(text)\n",
    "#remove words that carry out little meaning in NLP Tasks\n",
    "    filtered_text = [w for w in text_tokens if not w in stop_words]\n",
    "# return the filtered words separated by spaces\n",
    "    return \" \".join(filtered_text)\n",
    "\n",
    "Orig_rev_sample =  DS.iloc[0][0]\n",
    "\n",
    "# apply pre_processing to the data review column\n",
    "DS.review = DS['review'].apply(dText_Cleaning)\n",
    "Clean_rev_sample = DS.iloc[0][0]\n",
    "\n",
    "# lets see sample of original and clean text\n",
    "print( 'Original review: ', Orig_rev_sample, '\\n')\n",
    "print( 'Processed review: ', Clean_rev_sample)\n"
   ]
  },
  {
   "cell_type": "code",
   "execution_count": 7,
   "id": "78581edb-e80e-4a9b-a056-942717b10cbb",
   "metadata": {},
   "outputs": [
    {
     "name": "stdout",
     "output_type": "stream",
     "text": [
      "Number of duplicate entries:  421\n"
     ]
    }
   ],
   "source": [
    "# (4) Remove duplicate reviews\n",
    "\n",
    "# show duplicatereviews\n",
    "duplicated_count = DS.duplicated().sum()\n",
    "print(\"Number of duplicate entries: \", duplicated_count)\n",
    "\n",
    "# drop duplicate reviews\n",
    "df = DS.drop_duplicates('review')"
   ]
  },
  {
   "cell_type": "code",
   "execution_count": 8,
   "id": "b44b0fa1-9c84-4200-a47c-38d833c4a348",
   "metadata": {},
   "outputs": [],
   "source": [
    "# (5) Reduce words to their roots\n",
    "stemmer = PorterStemmer()\n",
    "def stemming(data):\n",
    "    text = [stemmer.stem(word) for word in data]\n",
    "    return data\n",
    "\n",
    "# Apply stemming to the data\n",
    "DS.review = DS['review'].apply(lambda x: stemming(x))"
   ]
  },
  {
   "cell_type": "code",
   "execution_count": 9,
   "id": "9cd9a835-2b69-4051-928b-e7853290c29e",
   "metadata": {},
   "outputs": [
    {
     "data": {
      "text/html": [
       "<div>\n",
       "<style scoped>\n",
       "    .dataframe tbody tr th:only-of-type {\n",
       "        vertical-align: middle;\n",
       "    }\n",
       "\n",
       "    .dataframe tbody tr th {\n",
       "        vertical-align: top;\n",
       "    }\n",
       "\n",
       "    .dataframe thead th {\n",
       "        text-align: right;\n",
       "    }\n",
       "</style>\n",
       "<table border=\"1\" class=\"dataframe\">\n",
       "  <thead>\n",
       "    <tr style=\"text-align: right;\">\n",
       "      <th></th>\n",
       "      <th>review</th>\n",
       "      <th>sentiment</th>\n",
       "      <th>word count</th>\n",
       "    </tr>\n",
       "  </thead>\n",
       "  <tbody>\n",
       "    <tr>\n",
       "      <th>0</th>\n",
       "      <td>one reviewers mentioned watching 1 oz episode ...</td>\n",
       "      <td>1</td>\n",
       "      <td>168</td>\n",
       "    </tr>\n",
       "    <tr>\n",
       "      <th>1</th>\n",
       "      <td>wonderful little production filming technique ...</td>\n",
       "      <td>1</td>\n",
       "      <td>84</td>\n",
       "    </tr>\n",
       "    <tr>\n",
       "      <th>2</th>\n",
       "      <td>thought wonderful way spend time hot summer we...</td>\n",
       "      <td>1</td>\n",
       "      <td>86</td>\n",
       "    </tr>\n",
       "    <tr>\n",
       "      <th>3</th>\n",
       "      <td>basically theres family little boy jake thinks...</td>\n",
       "      <td>0</td>\n",
       "      <td>67</td>\n",
       "    </tr>\n",
       "    <tr>\n",
       "      <th>4</th>\n",
       "      <td>petter matteis love time money visually stunni...</td>\n",
       "      <td>1</td>\n",
       "      <td>125</td>\n",
       "    </tr>\n",
       "  </tbody>\n",
       "</table>\n",
       "</div>"
      ],
      "text/plain": [
       "                                              review  sentiment  word count\n",
       "0  one reviewers mentioned watching 1 oz episode ...          1         168\n",
       "1  wonderful little production filming technique ...          1          84\n",
       "2  thought wonderful way spend time hot summer we...          1          86\n",
       "3  basically theres family little boy jake thinks...          0          67\n",
       "4  petter matteis love time money visually stunni...          1         125"
      ]
     },
     "execution_count": 9,
     "metadata": {},
     "output_type": "execute_result"
    }
   ],
   "source": [
    "#(6) Count the number of words and replace in the dataframe\n",
    "DS['word count'] = DS['review'].apply(no_of_words)\n",
    "DS.head()"
   ]
  },
  {
   "cell_type": "code",
   "execution_count": 10,
   "id": "7502271b-949e-4786-bcf0-2cf84b33dc0a",
   "metadata": {},
   "outputs": [],
   "source": [
    "# (7): Applying TFIDF to the data\n",
    "X = DS['review']\n",
    "Y = DS['sentiment']\n",
    "vect = TfidfVectorizer()\n",
    "X = vect.fit_transform(DS['review'])"
   ]
  },
  {
   "cell_type": "code",
   "execution_count": 11,
   "id": "b0ce6aa1-06a5-4c86-9227-5a463f3b7be5",
   "metadata": {},
   "outputs": [
    {
     "name": "stdout",
     "output_type": "stream",
     "text": [
      "Size of x_train:  (35000, 221707)\n",
      "Size of y_train:  (35000,)\n",
      "Size of x_test:  (15000, 221707)\n",
      "Size of y_test:  (15000,)\n"
     ]
    }
   ],
   "source": [
    "# (8) Split the data into training and testing sets\n",
    "x_train, x_test, y_train, y_test = train_test_split(X, Y, test_size=0.3, random_state=42)\n",
    "print(\"Size of x_train: \", (x_train.shape))\n",
    "print(\"Size of y_train: \", (y_train.shape))\n",
    "print(\"Size of x_test: \", (x_test.shape))\n",
    "print(\"Size of y_test: \", (y_test.shape))\n"
   ]
  },
  {
   "cell_type": "markdown",
   "id": "b05cd471-553c-46d0-9434-b1ca3ee8e505",
   "metadata": {},
   "source": [
    "***\n",
    "\n",
    "<center> Step 04 : Training and Testing the model </center>\n",
    "\n",
    "***\n"
   ]
  },
  {
   "cell_type": "code",
   "execution_count": 12,
   "id": "29c8d582-e5df-4d32-a428-7e0c8a18c342",
   "metadata": {},
   "outputs": [
    {
     "name": "stdout",
     "output_type": "stream",
     "text": [
      "Test accuracy: 89.57%\n"
     ]
    }
   ],
   "source": [
    "# Training and Testing \n",
    "logreg = LogisticRegression()\n",
    "logreg.fit(x_train, y_train)\n",
    "logreg_pred = logreg.predict(x_test)\n",
    "logreg_acc = accuracy_score(logreg_pred, y_test)\n",
    "print(\"Test accuracy: {:.2f}%\".format(logreg_acc*100))"
   ]
  },
  {
   "cell_type": "code",
   "execution_count": 13,
   "id": "49ae3f57-5891-4bd5-ad4f-5e7bd12e4c9b",
   "metadata": {},
   "outputs": [
    {
     "name": "stdout",
     "output_type": "stream",
     "text": [
      "[[6563  848]\n",
      " [ 717 6872]]\n",
      "\n",
      "\n",
      "              precision    recall  f1-score   support\n",
      "\n",
      "           0       0.90      0.89      0.89      7411\n",
      "           1       0.89      0.91      0.90      7589\n",
      "\n",
      "    accuracy                           0.90     15000\n",
      "   macro avg       0.90      0.90      0.90     15000\n",
      "weighted avg       0.90      0.90      0.90     15000\n",
      "\n"
     ]
    }
   ],
   "source": [
    "print(confusion_matrix(y_test, logreg_pred))\n",
    "print(\"\\n\")\n",
    "print(classification_report(y_test, logreg_pred))\n"
   ]
  },
  {
   "cell_type": "code",
   "execution_count": 16,
   "id": "1594ea1f-f462-4475-b9d3-599327f3b70d",
   "metadata": {},
   "outputs": [
    {
     "name": "stdin",
     "output_type": "stream",
     "text": [
      " the movie is good\n"
     ]
    },
    {
     "name": "stdout",
     "output_type": "stream",
     "text": [
      "\n",
      "\n",
      "positive review\n"
     ]
    }
   ],
   "source": [
    "x = str(input())\n",
    "#x  = x.np.reshape([1,-1])\n",
    "x= stemming([x])\n",
    "X = vect.transform(x)\n",
    "#X = X.reshape([-1,1])\n",
    "y = logreg.predict(X)\n",
    "print(\"\\n\")\n",
    "if y==1:\n",
    "    print ( \"positive review\" )\n",
    "else:\n",
    "    print(\"Negative Review\")\n"
   ]
  },
  {
   "cell_type": "code",
   "execution_count": null,
   "id": "84500e34-3655-4c73-871e-dec5a067008e",
   "metadata": {},
   "outputs": [],
   "source": [
    "\n"
   ]
  },
  {
   "cell_type": "code",
   "execution_count": null,
   "id": "fbefc433-b1d0-4353-9b57-c1fdcaee21ae",
   "metadata": {},
   "outputs": [],
   "source": []
  }
 ],
 "metadata": {
  "kernelspec": {
   "display_name": "Python 3 (ipykernel)",
   "language": "python",
   "name": "python3"
  },
  "language_info": {
   "codemirror_mode": {
    "name": "ipython",
    "version": 3
   },
   "file_extension": ".py",
   "mimetype": "text/x-python",
   "name": "python",
   "nbconvert_exporter": "python",
   "pygments_lexer": "ipython3",
   "version": "3.10.12"
  }
 },
 "nbformat": 4,
 "nbformat_minor": 5
}
