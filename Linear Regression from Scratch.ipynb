{
 "cells": [
  {
   "cell_type": "markdown",
   "id": "700ec0f4-55c3-43f1-82c2-8fb2ece9a763",
   "metadata": {},
   "source": [
    "Let's define our dataset and labels"
   ]
  },
  {
   "cell_type": "code",
   "execution_count": null,
   "id": "5f7db9ea-06a3-4240-a9e2-cbb6d82c6ae9",
   "metadata": {},
   "outputs": [],
   "source": [
    "X = [[]]"
   ]
  }
 ],
 "metadata": {
  "kernelspec": {
   "display_name": "Python 3 (ipykernel)",
   "language": "python",
   "name": "python3"
  },
  "language_info": {
   "codemirror_mode": {
    "name": "ipython",
    "version": 3
   },
   "file_extension": ".py",
   "mimetype": "text/x-python",
   "name": "python",
   "nbconvert_exporter": "python",
   "pygments_lexer": "ipython3",
   "version": "3.10.12"
  }
 },
 "nbformat": 4,
 "nbformat_minor": 5
}
