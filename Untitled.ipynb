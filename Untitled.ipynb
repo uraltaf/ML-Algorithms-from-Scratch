{
 "cells": [
  {
   "cell_type": "code",
   "execution_count": 2,
   "id": "59950feb-bfbb-4eaf-8a39-a92c2a0fc375",
   "metadata": {},
   "outputs": [
    {
     "name": "stdout",
     "output_type": "stream",
     "text": [
      "j= 0\n",
      " i= 0\n",
      "nX1 vlaue in loop 1.0\n",
      " i= 1\n",
      "nX2 vlaue in loop 8.0\n",
      " i= 2\n",
      "nX1 vlaue in loop 4.0\n",
      " i= 3\n",
      "nX2 vlaue in loop 9.0\n",
      "distance:  [1.0, 6.0, 2.0, 7.0]\n",
      "nX1:  [1.0, 4.0]\n",
      "nX2:  [8.0, 9.0]\n",
      "centroid: [2.5, 8.5]\n",
      "j= 1\n",
      " i= 0\n",
      "nX1 vlaue in loop 1.0\n",
      " i= 1\n",
      "nX1 vlaue in loop 8.0\n",
      " i= 2\n",
      "nX1 vlaue in loop 4.0\n",
      " i= 3\n",
      "nX2 vlaue in loop 9.0\n",
      "distance:  [1.5, 5.5, 1.5, 6.5]\n",
      "nX1:  [1.0, 8.0, 4.0]\n",
      "nX2:  [9.0]\n",
      "centroid: [4.333333333333333, 9.0]\n",
      "j= 2\n",
      " i= 0\n",
      "nX1 vlaue in loop 1.0\n",
      " i= 1\n",
      "nX1 vlaue in loop 8.0\n",
      " i= 2\n",
      "nX1 vlaue in loop 4.0\n",
      " i= 3\n",
      "nX1 vlaue in loop 9.0\n",
      "distance:  [3.333333333333333, 3.666666666666667, 0.33333333333333304, 4.666666666666667]\n",
      "nX1:  [1.0, 8.0, 4.0, 9.0]\n",
      "nX2:  []\n"
     ]
    },
    {
     "ename": "ZeroDivisionError",
     "evalue": "division by zero",
     "output_type": "error",
     "traceback": [
      "\u001b[0;31m---------------------------------------------------------------------------\u001b[0m",
      "\u001b[0;31mZeroDivisionError\u001b[0m                         Traceback (most recent call last)",
      "Cell \u001b[0;32mIn[2], line 2\u001b[0m\n\u001b[1;32m      1\u001b[0m X \u001b[38;5;241m=\u001b[39m [\u001b[38;5;241m1.0\u001b[39m,\u001b[38;5;241m8.0\u001b[39m, \u001b[38;5;241m4.0\u001b[39m,\u001b[38;5;241m9.0\u001b[39m]\n\u001b[0;32m----> 2\u001b[0m \u001b[43mKMean\u001b[49m\u001b[43m(\u001b[49m\u001b[43mX\u001b[49m\u001b[43m)\u001b[49m\n",
      "Cell \u001b[0;32mIn[1], line 35\u001b[0m, in \u001b[0;36mKMean\u001b[0;34m(X)\u001b[0m\n\u001b[1;32m     33\u001b[0m \u001b[38;5;28mprint\u001b[39m(\u001b[38;5;124m'\u001b[39m\u001b[38;5;124mnX2: \u001b[39m\u001b[38;5;124m'\u001b[39m,nX2)\n\u001b[1;32m     34\u001b[0m centroid[\u001b[38;5;241m0\u001b[39m] \u001b[38;5;241m=\u001b[39m \u001b[38;5;28msum\u001b[39m(nX1)\u001b[38;5;241m/\u001b[39m\u001b[38;5;28mlen\u001b[39m(nX1)\n\u001b[0;32m---> 35\u001b[0m centroid[\u001b[38;5;241m1\u001b[39m] \u001b[38;5;241m=\u001b[39m \u001b[38;5;28;43msum\u001b[39;49m\u001b[43m(\u001b[49m\u001b[43mnX2\u001b[49m\u001b[43m)\u001b[49m\u001b[38;5;241;43m/\u001b[39;49m\u001b[38;5;28;43mlen\u001b[39;49m\u001b[43m(\u001b[49m\u001b[43mnX2\u001b[49m\u001b[43m)\u001b[49m\n\u001b[1;32m     36\u001b[0m \u001b[38;5;28mprint\u001b[39m (\u001b[38;5;124m'\u001b[39m\u001b[38;5;124mcentroid:\u001b[39m\u001b[38;5;124m'\u001b[39m ,centroid)\n",
      "\u001b[0;31mZeroDivisionError\u001b[0m: division by zero"
     ]
    }
   ],
   "source": [
    "X = [1.0,8.0, 4.0,9.0]\n",
    "KMean(X)"
   ]
  },
  {
   "cell_type": "code",
   "execution_count": 1,
   "id": "7d8683d4-e3fc-4f7b-ae88-f056f7e6e264",
   "metadata": {},
   "outputs": [],
   "source": [
    "#trying with k means\n",
    "def KMean(X):\n",
    "    centroid  = [2.0,8.0]\n",
    "    m= len(X)\n",
    "    \n",
    "    #to redefine centroids n number of times\n",
    "    for j in range(m):\n",
    "        print('j=',j)\n",
    "        distance1 = [0.0, 0.0, 0.0, 0.0]\n",
    "       \n",
    "        nX1= []\n",
    "        nX2= []\n",
    "        #print('nx1 here:', nX1)\n",
    "        #print('nx1 here:',nX2)\n",
    "         #step 01: find distance for each datapoint for centroid\n",
    "        for i in range(m):\n",
    "            print(f' i= {i}')\n",
    "            distance1[i]= (centroid[0]-X[i])\n",
    "            distance1[i]= abs(distance1[i])\n",
    "            \n",
    "            \n",
    "            if (abs(centroid[0]-distance1[i]) <= abs(centroid[1]-distance1[i])):\n",
    "                nX1.append(X[i])\n",
    "                print('nX1 vlaue in loop',X[i])\n",
    "\n",
    "            elif (abs(centroid[0]-distance1[i]) > abs(centroid[1]-distance1[i])):\n",
    "                nX2.append(X[i])\n",
    "                print('nX2 vlaue in loop',X[i])\n",
    "                \n",
    "                \n",
    "        print('distance: ', distance1)       \n",
    "        print('nX1: ',nX1)\n",
    "        print('nX2: ',nX2)\n",
    "        centroid[0] = sum(nX1)/len(nX1)\n",
    "        centroid[1] = sum(nX2)/len(nX2)\n",
    "        print ('centroid:' ,centroid)\n"
   ]
  },
  {
   "cell_type": "code",
   "execution_count": null,
   "id": "acda69e4-1c78-4e22-875b-25875e66ea05",
   "metadata": {},
   "outputs": [],
   "source": []
  }
 ],
 "metadata": {
  "kernelspec": {
   "display_name": "Python 3 (ipykernel)",
   "language": "python",
   "name": "python3"
  },
  "language_info": {
   "codemirror_mode": {
    "name": "ipython",
    "version": 3
   },
   "file_extension": ".py",
   "mimetype": "text/x-python",
   "name": "python",
   "nbconvert_exporter": "python",
   "pygments_lexer": "ipython3",
   "version": "3.10.12"
  }
 },
 "nbformat": 4,
 "nbformat_minor": 5
}
