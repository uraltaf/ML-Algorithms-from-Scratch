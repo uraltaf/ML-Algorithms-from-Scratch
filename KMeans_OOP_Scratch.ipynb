{
 "cells": [
  {
   "cell_type": "code",
   "execution_count": 1,
   "id": "eca332ff-c50b-40f5-9928-fa41d1d9fdb0",
   "metadata": {},
   "outputs": [],
   "source": [
    "import numpy as np\n",
    "np.random.seed(42)"
   ]
  },
  {
   "cell_type": "code",
   "execution_count": 2,
   "id": "43171fa1-6837-4553-89d6-a6cf15ad6600",
   "metadata": {},
   "outputs": [],
   "source": [
    "def euclidean_distance(x1,x2):\n",
    "     return np.sqrt(np.sum((x1-x2)**2))"
   ]
  },
  {
   "cell_type": "code",
   "execution_count": 66,
   "id": "eb74214d-f816-4504-a2a7-a8b55a7a5a13",
   "metadata": {},
   "outputs": [],
   "source": [
    "class KMeans1:\n",
    "    def __init__(self, K=3, max_iters = 100):\n",
    "        self.K = K\n",
    "        self.max_iters = max_iters\n",
    "        self.clusters = [[] for i in range(self.K)]\n",
    "        self.centroids = []\n",
    "    def predict(self,X):\n",
    "        self.X = X\n",
    "        self.n_samples, self.n_features = X.shape\n",
    "        \n",
    "\n",
    "        # Initialize centroids\n",
    "        random_idx = np.random.choice(self.n_samples, self.K, replace = False)\n",
    "        self.centroids = [X[idx] for idx in random_idx]\n",
    "\n",
    "        for iter in range(self.max_iters):\n",
    "            # create centroids and assign idx of the nearest examples\n",
    "            self.clusters = self._create_clusters(self.centroids)\n",
    "            # update centroids \n",
    "            centroids_old = self.centroids\n",
    "            self.centroids, labels = self._get_centroids(self.clusters)\n",
    "\n",
    "        #check for convergence\n",
    "            distances = [euclidean_distance(centroids_old[i], self.centroids[i]) for i in range(self.K)]\n",
    "            if sum(distances) == 0:\n",
    "                print(f'converged at iteration no: {iter}')\n",
    "                break\n",
    "            \n",
    "        return labels\n",
    "    # create cluster with idx of all nearest points\n",
    "    def _create_clusters(self, centroids):\n",
    "        clusters = [[] for _ in range(self.K)]\n",
    "        for idx, sample in enumerate(self.X):\n",
    "            # calculate distance between centroid and the sample\n",
    "            distances = [euclidean_distance(sample, point) for point in centroids]\n",
    "            centroid_idx = np.argmin(distances)\n",
    "            clusters[centroid_idx].append(idx)\n",
    "        return clusters\n",
    "        \n",
    "    # update centroid based on the mean of clusters\n",
    "    def _get_centroids(self, clusters):\n",
    "        labels = np.empty(self.n_samples)\n",
    "        centroids = np.zeros((self.K, self.n_features))\n",
    "        for cluster_idx, cluster in enumerate(clusters):\n",
    "            cluster_mean = np.mean(X[cluster], axis = 0)\n",
    "            centroids[cluster_idx] = cluster_mean\n",
    "            for sample_index in cluster:\n",
    "               labels[sample_index] = cluster_idx\n",
    "        return centroids, labels"
   ]
  },
  {
   "cell_type": "code",
   "execution_count": 73,
   "id": "d8d74510-b38b-4dda-9938-80fc19885e69",
   "metadata": {},
   "outputs": [
    {
     "name": "stdout",
     "output_type": "stream",
     "text": [
      "(500, 2)\n",
      "3\n",
      "converged at iteration no: 21\n",
      "[8. 3. 4. 7. 2. 2. 1. 1. 8. 8. 6. 3. 7. 1. 2. 4. 2. 5. 1. 7. 1. 2. 6. 3.\n",
      " 8. 8. 8. 3. 1. 7. 2. 1. 0. 7. 7. 1. 6. 0. 8. 8. 3. 1. 3. 2. 7. 4. 4. 7.\n",
      " 3. 3. 0. 7. 1. 7. 4. 2. 0. 2. 0. 5. 8. 4. 6. 1. 4. 1. 8. 5. 3. 4. 7. 4.\n",
      " 2. 4. 8. 2. 5. 8. 3. 4. 8. 4. 7. 2. 7. 0. 1. 4. 8. 8. 1. 8. 5. 8. 7. 2.\n",
      " 0. 1. 4. 3. 4. 3. 4. 6. 2. 8. 5. 2. 2. 0. 7. 0. 3. 6. 2. 1. 2. 8. 8. 6.\n",
      " 7. 7. 3. 4. 3. 8. 4. 6. 2. 2. 2. 7. 4. 7. 6. 8. 2. 7. 2. 3. 8. 7. 2. 8.\n",
      " 1. 0. 1. 1. 1. 1. 2. 2. 2. 3. 8. 7. 4. 4. 8. 0. 7. 8. 7. 4. 5. 1. 0. 6.\n",
      " 6. 3. 8. 4. 2. 7. 8. 7. 7. 6. 7. 8. 6. 0. 2. 8. 2. 8. 7. 1. 2. 2. 4. 7.\n",
      " 1. 2. 7. 7. 1. 0. 4. 8. 1. 7. 3. 3. 2. 1. 8. 8. 4. 3. 2. 3. 3. 1. 0. 4.\n",
      " 6. 0. 1. 8. 7. 3. 7. 7. 7. 3. 2. 4. 4. 8. 4. 6. 8. 3. 7. 4. 3. 6. 8. 8.\n",
      " 7. 7. 1. 1. 1. 0. 4. 1. 1. 4. 1. 4. 2. 0. 7. 7. 8. 7. 3. 2. 6. 6. 2. 2.\n",
      " 1. 3. 4. 4. 1. 2. 1. 1. 1. 4. 1. 7. 2. 4. 6. 0. 6. 1. 1. 7. 7. 7. 3. 1.\n",
      " 1. 4. 7. 1. 2. 2. 8. 8. 1. 4. 2. 3. 4. 0. 6. 4. 1. 2. 2. 7. 8. 1. 3. 2.\n",
      " 2. 1. 5. 0. 7. 2. 1. 8. 6. 1. 1. 1. 8. 2. 1. 7. 3. 4. 1. 4. 4. 3. 1. 1.\n",
      " 0. 4. 4. 8. 4. 2. 1. 3. 7. 1. 7. 2. 2. 1. 5. 4. 0. 7. 2. 7. 1. 0. 1. 1.\n",
      " 1. 1. 8. 1. 8. 6. 1. 1. 8. 2. 6. 7. 2. 3. 7. 1. 8. 3. 3. 6. 7. 1. 8. 4.\n",
      " 5. 1. 6. 3. 2. 2. 1. 8. 6. 4. 4. 3. 3. 8. 8. 2. 4. 0. 1. 8. 6. 4. 4. 7.\n",
      " 2. 8. 0. 7. 8. 3. 7. 6. 3. 1. 1. 8. 7. 1. 8. 8. 0. 2. 4. 2. 0. 3. 1. 5.\n",
      " 8. 2. 2. 6. 4. 7. 7. 7. 6. 3. 1. 7. 6. 1. 8. 1. 0. 7. 7. 4. 7. 3. 1. 8.\n",
      " 1. 1. 8. 1. 2. 2. 3. 7. 3. 1. 1. 8. 7. 0. 8. 7. 1. 8. 7. 3. 1. 0. 8. 1.\n",
      " 8. 2. 8. 1. 6. 1. 0. 8. 8. 3. 3. 1. 3. 7. 8. 1. 1. 3. 4. 8.]\n"
     ]
    }
   ],
   "source": [
    "# Testing\n",
    "if __name__ == \"__main__\":\n",
    "    from sklearn.datasets import make_blobs\n",
    "\n",
    "    X, y = make_blobs(\n",
    "        centers=3, n_samples=500, n_features=2, shuffle=True, random_state=40\n",
    "    )\n",
    "    print(X.shape)\n",
    "\n",
    "    clusters = len(np.unique(y))\n",
    "    print(clusters)\n",
    "    #for this sample remove axis =0 from the above code [cluster_mean = np.mean(X[cluster], axis = 0)]\n",
    "    #Z = np.array([1.0,8.0, 4.0,9.0]).reshape(-1,1)\n",
    "   # print(Z.shape)\n",
    "    k = KMeans1(K=9, max_iters=100 )\n",
    "    y_pred = k.predict(X)\n",
    "    print(y_pred)\n",
    "\n",
    "    #k.plot()"
   ]
  },
  {
   "cell_type": "code",
   "execution_count": null,
   "id": "33ced0ea-b79f-41e9-9a43-e7f4a3cc17ec",
   "metadata": {},
   "outputs": [],
   "source": []
  },
  {
   "cell_type": "code",
   "execution_count": null,
   "id": "aaf7d157-8949-4712-82cd-28570d7e84b3",
   "metadata": {},
   "outputs": [],
   "source": []
  }
 ],
 "metadata": {
  "kernelspec": {
   "display_name": "Python 3 (ipykernel)",
   "language": "python",
   "name": "python3"
  },
  "language_info": {
   "codemirror_mode": {
    "name": "ipython",
    "version": 3
   },
   "file_extension": ".py",
   "mimetype": "text/x-python",
   "name": "python",
   "nbconvert_exporter": "python",
   "pygments_lexer": "ipython3",
   "version": "3.10.12"
  }
 },
 "nbformat": 4,
 "nbformat_minor": 5
}
