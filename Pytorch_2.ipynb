{
 "cells": [
  {
   "cell_type": "code",
   "execution_count": 1,
   "id": "c3841d1b-5917-4725-aae1-74a8642f7843",
   "metadata": {},
   "outputs": [],
   "source": [
    "import torch\n",
    "import numpy as np"
   ]
  },
  {
   "cell_type": "code",
   "execution_count": 3,
   "id": "2eb56749-d568-4cbd-a54f-9dafe9cc388e",
   "metadata": {},
   "outputs": [
    {
     "data": {
      "text/plain": [
       "tensor([[1, 2],\n",
       "        [3, 4]])"
      ]
     },
     "execution_count": 3,
     "metadata": {},
     "output_type": "execute_result"
    }
   ],
   "source": [
    "data = [[1,2],[3,4]]\n",
    "x_data = torch.tensor(data)\n",
    "x_data\n"
   ]
  },
  {
   "cell_type": "code",
   "execution_count": 10,
   "id": "51641714-dfb7-4f8d-9e7c-2bbf5d094f7c",
   "metadata": {},
   "outputs": [
    {
     "data": {
      "text/plain": [
       "tensor([[1, 2],\n",
       "        [3, 4]])"
      ]
     },
     "execution_count": 10,
     "metadata": {},
     "output_type": "execute_result"
    }
   ],
   "source": [
    "np_array = np.array(data)\n",
    "x_data1 = torch.from_numpy(np_array)\n",
    "x_data1"
   ]
  },
  {
   "cell_type": "code",
   "execution_count": 25,
   "id": "b10c063f-d830-4673-a115-fb17fb4399a1",
   "metadata": {},
   "outputs": [
    {
     "name": "stdout",
     "output_type": "stream",
     "text": [
      "tensor([[1, 1],\n",
      "        [1, 1]])\n"
     ]
    },
    {
     "data": {
      "text/plain": [
       "tensor([[0.7527, 0.9242],\n",
       "        [0.5146, 0.7401]])"
      ]
     },
     "execution_count": 25,
     "metadata": {},
     "output_type": "execute_result"
    }
   ],
   "source": [
    "x_ones = torch.ones_like(x_data1)\n",
    "print(x_ones)\n",
    "x_rand = torch.rand_like(x_data, dtype = torch.float)\n",
    "x_rand"
   ]
  },
  {
   "cell_type": "code",
   "execution_count": 30,
   "id": "2c28ec66-4765-4767-9121-c3615fd66058",
   "metadata": {},
   "outputs": [
    {
     "name": "stdout",
     "output_type": "stream",
     "text": [
      "tensor([[1., 1.],\n",
      "        [1., 1.]])\n"
     ]
    }
   ],
   "source": [
    "shape = (2,2,)\n",
    "rand_tensor = torch.ones(shape)\n",
    "print(rand_tensor)"
   ]
  },
  {
   "cell_type": "code",
   "execution_count": 42,
   "id": "13fe306d-2e96-44a3-845f-85d5fe518dca",
   "metadata": {},
   "outputs": [
    {
     "data": {
      "text/plain": [
       "device(type='cuda', index=0)"
      ]
     },
     "execution_count": 42,
     "metadata": {},
     "output_type": "execute_result"
    }
   ],
   "source": [
    "x_ones.device"
   ]
  },
  {
   "cell_type": "code",
   "execution_count": 43,
   "id": "06fc3111-b354-404a-a219-a27a3deb4680",
   "metadata": {},
   "outputs": [
    {
     "data": {
      "text/plain": [
       "tensor([[1, 1],\n",
       "        [1, 1]], device='cuda:0')"
      ]
     },
     "execution_count": 43,
     "metadata": {},
     "output_type": "execute_result"
    }
   ],
   "source": [
    "x_ones = x_ones.to('cuda')\n",
    "x_ones"
   ]
  },
  {
   "cell_type": "code",
   "execution_count": 88,
   "id": "46121cc9-be80-4485-b46b-79a8881991a9",
   "metadata": {},
   "outputs": [
    {
     "data": {
      "text/plain": [
       "tensor([1., 1., 1., 1., 1.])"
      ]
     },
     "execution_count": 88,
     "metadata": {},
     "output_type": "execute_result"
    }
   ],
   "source": [
    "tensor = torch.ones(5,5)\n",
    "#tensor[3, 4] = 5\n",
    "tensor[:,-1]"
   ]
  },
  {
   "cell_type": "code",
   "execution_count": 76,
   "id": "d972dbc9-447f-4e2e-b28f-9717d3aa8e0a",
   "metadata": {},
   "outputs": [
    {
     "name": "stdout",
     "output_type": "stream",
     "text": [
      "tensor([[1., 1., 1., 1., 1., 1., 1., 1., 1., 1.],\n",
      "        [1., 1., 1., 1., 1., 1., 1., 1., 1., 1.],\n",
      "        [1., 1., 1., 1., 1., 1., 1., 1., 1., 1.],\n",
      "        [1., 1., 1., 1., 5., 1., 1., 1., 1., 5.],\n",
      "        [1., 1., 1., 1., 1., 1., 1., 1., 1., 1.]])\n"
     ]
    }
   ],
   "source": [
    "t1 = torch.cat([tensor, tensor] ,dim =1)\n",
    "print(t1)\n"
   ]
  },
  {
   "cell_type": "code",
   "execution_count": 82,
   "id": "a464df02-fa82-414f-b17a-31e7115af36a",
   "metadata": {},
   "outputs": [
    {
     "data": {
      "text/plain": [
       "tensor([[ 5.,  5.,  5.,  9.,  5.],\n",
       "        [ 5.,  5.,  5.,  9.,  5.],\n",
       "        [ 5.,  5.,  5.,  9.,  5.],\n",
       "        [ 9.,  9.,  9., 29.,  9.],\n",
       "        [ 5.,  5.,  5.,  9.,  5.]])"
      ]
     },
     "execution_count": 82,
     "metadata": {},
     "output_type": "execute_result"
    }
   ],
   "source": [
    "y1 = tensor@tensor.T\n",
    "y1"
   ]
  },
  {
   "cell_type": "code",
   "execution_count": 81,
   "id": "25ed14e6-345d-4f9e-b706-d0fe15e011f3",
   "metadata": {},
   "outputs": [
    {
     "data": {
      "text/plain": [
       "tensor([[ 5.,  5.,  5.,  9.,  5.],\n",
       "        [ 5.,  5.,  5.,  9.,  5.],\n",
       "        [ 5.,  5.,  5.,  9.,  5.],\n",
       "        [ 9.,  9.,  9., 29.,  9.],\n",
       "        [ 5.,  5.,  5.,  9.,  5.]])"
      ]
     },
     "execution_count": 81,
     "metadata": {},
     "output_type": "execute_result"
    }
   ],
   "source": [
    "y2= torch.matmul(tensor,tensor.T)\n",
    "y2"
   ]
  },
  {
   "cell_type": "code",
   "execution_count": 84,
   "id": "78be555f-8130-4f7f-a992-1fe704fd98c8",
   "metadata": {},
   "outputs": [
    {
     "data": {
      "text/plain": [
       "tensor([[ 1.,  1.,  1.,  1.,  1.],\n",
       "        [ 1.,  1.,  1.,  1.,  1.],\n",
       "        [ 1.,  1.,  1.,  1.,  1.],\n",
       "        [ 1.,  1.,  1.,  1., 25.],\n",
       "        [ 1.,  1.,  1.,  1.,  1.]])"
      ]
     },
     "execution_count": 84,
     "metadata": {},
     "output_type": "execute_result"
    }
   ],
   "source": [
    "z1= tensor.mul(tensor)\n",
    "z1"
   ]
  },
  {
   "cell_type": "code",
   "execution_count": 99,
   "id": "8b511727-e860-43c2-8b02-4ce86f608a46",
   "metadata": {},
   "outputs": [
    {
     "name": "stdout",
     "output_type": "stream",
     "text": [
      "tensor([1., 1., 1., 1., 1.])\n"
     ]
    },
    {
     "data": {
      "text/plain": [
       "[1.0, 1.0, 1.0, 1.0, 1.0]"
      ]
     },
     "execution_count": 99,
     "metadata": {},
     "output_type": "execute_result"
    }
   ],
   "source": [
    "agg = tensor[:,0]\n",
    "print(agg)\n",
    "agg.dtype\n",
    "agg_item = agg.tolist()\n",
    "agg_item"
   ]
  },
  {
   "cell_type": "code",
   "execution_count": 108,
   "id": "8972c057-b3c6-4f8a-a777-a7e353e0be7f",
   "metadata": {},
   "outputs": [
    {
     "data": {
      "text/plain": [
       "tensor([[1., 1., 1., 1., 1.],\n",
       "        [1., 1., 1., 1., 1.],\n",
       "        [1., 1., 1., 1., 1.],\n",
       "        [1., 1., 1., 1., 1.],\n",
       "        [1., 1., 1., 1., 1.]])"
      ]
     },
     "execution_count": 108,
     "metadata": {},
     "output_type": "execute_result"
    }
   ],
   "source": [
    "tensor.t_()\n",
    "tensor"
   ]
  },
  {
   "cell_type": "code",
   "execution_count": 126,
   "id": "c0c00cf2-b87d-4f3d-b520-931cbd7d3977",
   "metadata": {},
   "outputs": [
    {
     "name": "stdout",
     "output_type": "stream",
     "text": [
      "tensor([4., 4., 4., 4.]) \n",
      "\n",
      "[4. 4. 4. 4.]\n",
      "tensor([2., 2., 2., 2.], dtype=torch.float64) \n",
      "\n",
      "[2. 2. 2. 2.]\n"
     ]
    }
   ],
   "source": [
    "t= torch.ones(4)\n",
    "n = t.numpy()\n",
    "t.add_(2)\n",
    "np.add(n, 1, out = n) #This change will also reflect in tensor\n",
    "print(t,'\\n')\n",
    "print(n)\n",
    "# change in tensor reflects in numpy array and vice versa. see examples below\n",
    "\n",
    "n1 =np.ones(4)\n",
    "t1= torch.from_numpy(n1) # this change will also reflect in numpy\n",
    "np.add(n1, 1, out = n1)\n",
    "print(t1,'\\n')\n",
    "print(n1)"
   ]
  },
  {
   "cell_type": "code",
   "execution_count": null,
   "id": "2aea2d59-bd9e-4fcd-8329-da074bcb9525",
   "metadata": {},
   "outputs": [],
   "source": []
  },
  {
   "cell_type": "code",
   "execution_count": null,
   "id": "1eb62e44-c915-4e38-89d1-da21e00b0f3e",
   "metadata": {},
   "outputs": [],
   "source": []
  }
 ],
 "metadata": {
  "kernelspec": {
   "display_name": "Python 3 (ipykernel)",
   "language": "python",
   "name": "python3"
  },
  "language_info": {
   "codemirror_mode": {
    "name": "ipython",
    "version": 3
   },
   "file_extension": ".py",
   "mimetype": "text/x-python",
   "name": "python",
   "nbconvert_exporter": "python",
   "pygments_lexer": "ipython3",
   "version": "3.10.12"
  }
 },
 "nbformat": 4,
 "nbformat_minor": 5
}
