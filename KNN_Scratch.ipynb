{
 "cells": [
  {
   "cell_type": "code",
   "execution_count": 1,
   "id": "7648f94d-11b2-454b-9111-6c23e0e77c61",
   "metadata": {},
   "outputs": [],
   "source": [
    "import numpy as np\n",
    "from collections import Counter"
   ]
  },
  {
   "cell_type": "code",
   "execution_count": 2,
   "id": "24f5bb4d-166f-4390-80c2-01dfff01c863",
   "metadata": {},
   "outputs": [],
   "source": [
    "def euclidean_distance (x1,x2):\n",
    "    return np.sqrt(np.sum((x1-x2)**2))"
   ]
  },
  {
   "cell_type": "code",
   "execution_count": 5,
   "id": "e089917e-0364-43fa-bdd6-fad08addcbb2",
   "metadata": {},
   "outputs": [],
   "source": [
    "class KNN:\n",
    "    def __init__(self,k=3):\n",
    "        self.k = k\n",
    "        \n",
    "    def fit(self,X, y):\n",
    "        self.X_train = X\n",
    "        self.y_train = y\n",
    "        \n",
    "    def predict(self,X):\n",
    "        predictions = [self._predict(x) for x in X]\n",
    "        return np.array(predictions)\n",
    "        \n",
    "    def _predict(self,x):\n",
    "        # Compute distances\n",
    "        distances = [euclidean_distance(x,x_train) for x_train in self.X_train]\n",
    "        # Compute k-nearest neighbors\n",
    "        k_indices = np.argsort(distances)[:self.k]\n",
    "        labels = [self.y_train[i] for i in k_indices]\n",
    "        most_common  = self._Nneighbor(labels)\n",
    "        return most_common\n",
    "    def _Nneighbor(self, labels):\n",
    "        counts = {}\n",
    "        for label in labels:\n",
    "            counts[label] = counts.get(label,0)+1\n",
    "        most_common_value = max(counts.values())\n",
    "        most_common_key = [label for label, count in counts.items() if count == most_common_value]\n",
    "        return most_common_key[0]"
   ]
  },
  {
   "cell_type": "code",
   "execution_count": 23,
   "id": "e5de69a9-e7f0-4bee-b0ff-5028c5c5aec3",
   "metadata": {},
   "outputs": [],
   "source": [
    "class KNN1:\n",
    "    def __init__(self, K=3):\n",
    "        self.K = K\n",
    "    def fit(self,X,y):\n",
    "        self.X_train = X\n",
    "        self.y_train = y\n",
    "    def predict(self,X):\n",
    "        predictions = [self._predict(x) for x in X]\n",
    "        return np.array(predictions)\n",
    "    def _predict(self, x):\n",
    "        distances = [euclidean_distance(x,x_train) for x_train in self.X_train]\n",
    "        k_indices = np.argsort(distances)[:self.K]\n",
    "        labels = [self.y_train[idx] for idx in k_indices]\n",
    "        most_common = self._Nneighbor(labels)\n",
    "    def _Nneighbor(self,labels):\n",
    "        counts = {}\n",
    "        for label in labels:\n",
    "            counts[label]= counts.get(label, 0)+ 1\n",
    "        most_common_value = max(counts.values())\n",
    "        most_common_key = [label for label, count in counts.items() if count== most_common_value]\n",
    "        return most_common_key[0]\n",
    "        "
   ]
  },
  {
   "cell_type": "code",
   "execution_count": 24,
   "id": "13b341d2-49a2-446f-8711-ca40cc3b94de",
   "metadata": {},
   "outputs": [
    {
     "name": "stdout",
     "output_type": "stream",
     "text": [
      "[None None]\n"
     ]
    }
   ],
   "source": [
    "X_train = np.array([ [1, 2, 3, 4], [8,9,10,11], [ 15, 16, 17, 18]])\n",
    "y_train =np.array ([0, 1, 2])\n",
    "X_test = np.array([[ 1, 4, 3, 0], [50, 55, 12, 1]])\n",
    "model = KNN1(K=3)\n",
    "model.fit(X_train,y_train)\n",
    "pred =model.predict(X_test)\n",
    "print(pred)"
   ]
  },
  {
   "cell_type": "markdown",
   "id": "9fd7103e-c369-4996-8841-8da197a71d1d",
   "metadata": {},
   "source": [
    "   # Find the max repeated number in a list, tuple"
   ]
  },
  {
   "cell_type": "code",
   "execution_count": 163,
   "id": "dd7e0b0c-b58b-41d0-ac4e-33eba1f2f5d6",
   "metadata": {},
   "outputs": [],
   "source": [
    "# Find the max repeated number in a list, tuple, or dictionary.\n",
    "\n",
    "def most_common_neighbor(labels):\n",
    "    counts ={}\n",
    "    for label in labels:\n",
    "        counts[label] = counts.get(label,0)+1\n",
    "    most_count_value = max(counts.values())\n",
    "    most_count_label = [label for label, count in counts.items() if count == most_count_value ]\n",
    "    return most_count_label[0]\n"
   ]
  },
  {
   "cell_type": "code",
   "execution_count": 167,
   "id": "f22be447-7bfa-4ab9-9767-079b9c407572",
   "metadata": {},
   "outputs": [
    {
     "name": "stdout",
     "output_type": "stream",
     "text": [
      "2\n"
     ]
    }
   ],
   "source": [
    "a=most_common_neighbor((1, 2 , 2, 2, 3, 1,5,5 ,5))\n",
    "print(a)"
   ]
  },
  {
   "cell_type": "code",
   "execution_count": 170,
   "id": "f6ad3800-d82b-4e98-b9f3-60aff00a1a1a",
   "metadata": {},
   "outputs": [
    {
     "name": "stdout",
     "output_type": "stream",
     "text": [
      "Most repeated number: 3\n"
     ]
    },
    {
     "data": {
      "text/plain": [
       "4"
      ]
     },
     "execution_count": 170,
     "metadata": {},
     "output_type": "execute_result"
    }
   ],
   "source": [
    "#numpy max\n",
    "arr = np.array([3, 2, 3, 1, 4, 3, 2])\n",
    "counts = np.bincount(arr)\n",
    "most_repeated_index = np.argmax(counts)\n",
    "most_repeated_number = most_repeated_index\n",
    "print(f\"Most repeated number: {most_repeated_number}\")  # Output: 3"
   ]
  },
  {
   "cell_type": "code",
   "execution_count": 145,
   "id": "d3643885-d2ca-4755-a07d-74bbce4200e8",
   "metadata": {},
   "outputs": [],
   "source": [
    "#implemented in the form of a class\n",
    "class Class():\n",
    "    def __init__(self,labels):\n",
    "        self.labels =labels\n",
    "        \n",
    "    def Most_Repeated(self):\n",
    "        counts = {}\n",
    "        for label in self.labels:\n",
    "            counts[label] = counts.get(label,0)+1 \n",
    "            print(counts)\n",
    "        most_count = max(counts.values())\n",
    "        most_repeated = [label for label, count in counts.items() if count == most_count]\n",
    "        return most_repeated[0]"
   ]
  },
  {
   "cell_type": "markdown",
   "id": "d9d99edc-2ed4-49c9-8660-ab1bbd552919",
   "metadata": {},
   "source": [
    " # Find the max repeated number of a dictionary?"
   ]
  },
  {
   "cell_type": "code",
   "execution_count": 192,
   "id": "74ed8a65-ad67-4a09-a663-44ae44019c10",
   "metadata": {},
   "outputs": [
    {
     "name": "stdout",
     "output_type": "stream",
     "text": [
      "dict_keys(['A', 'B', 'D', 'E'])\n",
      "max repeated value is: 2\n",
      "[3]\n"
     ]
    }
   ],
   "source": [
    "x ={'A':3, \"B\": 3, \"A\":3, 'D': 1, 'E':6}\n",
    "print(x.keys())\n",
    "dict ={}\n",
    "# just the \n",
    "for value in x.values():\n",
    "    dict[value] = dict.get(value, 0)+1\n",
    "print('max repeated value is:', max(dict.values()))\n",
    "# lets find out max repeated key\n",
    "max_count = max(dict.values())\n",
    "max_key = [key for key, count in dict.items() if count == max_count ]\n",
    "print(max_key)\n",
    "# result is incorrect because dictionary cannot have duplicate key and value pair\n"
   ]
  },
  {
   "cell_type": "code",
   "execution_count": null,
   "id": "f3036637-ff04-45a8-9e34-8917d5c1a1ab",
   "metadata": {},
   "outputs": [],
   "source": []
  },
  {
   "cell_type": "code",
   "execution_count": null,
   "id": "b714dcd1-5cce-4331-99af-da05bd18625c",
   "metadata": {},
   "outputs": [],
   "source": []
  }
 ],
 "metadata": {
  "kernelspec": {
   "display_name": "Python 3 (ipykernel)",
   "language": "python",
   "name": "python3"
  },
  "language_info": {
   "codemirror_mode": {
    "name": "ipython",
    "version": 3
   },
   "file_extension": ".py",
   "mimetype": "text/x-python",
   "name": "python",
   "nbconvert_exporter": "python",
   "pygments_lexer": "ipython3",
   "version": "3.10.12"
  }
 },
 "nbformat": 4,
 "nbformat_minor": 5
}
