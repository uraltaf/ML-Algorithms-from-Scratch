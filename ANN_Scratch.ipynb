{
 "cells": [
  {
   "cell_type": "code",
   "execution_count": 1,
   "id": "bdabee30-f247-4dbc-994a-d632d66fb8aa",
   "metadata": {},
   "outputs": [],
   "source": [
    "import numpy as np"
   ]
  },
  {
   "cell_type": "code",
   "execution_count": null,
   "id": "0d492127-1275-432e-9d45-fd6745f56de4",
   "metadata": {},
   "outputs": [],
   "source": [
    "class ANN:\n",
    "    def __init__(self,input_layer =2, hidden_layer = 3, output_layer =3, learning_rate = 0.001. n_iters = 500):\n",
    "        self.learning_rate = learning_rate\n",
    "        self.input_layer = input_layer\n",
    "        self.hidden_layer = hidden_layer\n",
    "        self.output_layer = 3\n",
    "        self.n_iters = n_iters\n",
    "        \n",
    "        #initialize network parameters\n",
    "        self.W1 = np.random.randn(self.hidden_layer,self.input_layer)\n",
    "        self.b1 = np.random.randn(self.hidden_layer)\n",
    "        self.W2 = np.random.randn(self.output_layer,self.hidden_layer)\n",
    "        self.b2 = np.random.randn(self.output_layer)\n",
    "\n",
    "    def fit(self, X, y):\n",
    "        self.X = X\n",
    "        self.y = y\n",
    "        self.n_samples, self.n_features = X.shape\n",
    "        \n",
    "        for _ in range(n_iters):\n",
    "            output = _forward_propagation(self.X)\n",
    "            Loss = _cross_entropy(output, self.y)\n",
    "\n",
    "            #back propagation and update parameters\n",
    "\n",
    "    def _forward_propagation(self, X):\n",
    "        self.Z1 = np.dot(self.W1, X) + self.b1\n",
    "        self.A1 = _sigmoid(self.Z1) \n",
    "        self.Z2 = np.dot(self.W2, A1) + self.b2\n",
    "        \n",
    "# softmax if more number of classes\n",
    "        self.A2 = _sigmoid(self.Z2)\n",
    "        return self.A2\n",
    "\n",
    "    def _sigmoid(self,Z):\n",
    "        return 1/(1+np.exp(-Z))\n",
    "\n",
    "    def _cross_entropy(self, A, y):\n",
    "        return -1/self.n_samples*np.sum(y* np.log(A)+ (1-y)*np.log(1-A))\n",
    "        \n",
    "    "
   ]
  }
 ],
 "metadata": {
  "kernelspec": {
   "display_name": "Python 3 (ipykernel)",
   "language": "python",
   "name": "python3"
  },
  "language_info": {
   "codemirror_mode": {
    "name": "ipython",
    "version": 3
   },
   "file_extension": ".py",
   "mimetype": "text/x-python",
   "name": "python",
   "nbconvert_exporter": "python",
   "pygments_lexer": "ipython3",
   "version": "3.10.12"
  }
 },
 "nbformat": 4,
 "nbformat_minor": 5
}
