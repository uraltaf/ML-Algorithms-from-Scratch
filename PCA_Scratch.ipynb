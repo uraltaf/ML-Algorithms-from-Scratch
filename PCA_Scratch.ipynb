{
 "cells": [
  {
   "cell_type": "code",
   "execution_count": 1,
   "id": "dba243b2-ebcb-4a95-921e-53bae4a54eb0",
   "metadata": {},
   "outputs": [],
   "source": [
    "import numpy as np"
   ]
  },
  {
   "cell_type": "code",
   "execution_count": 2,
   "id": "29117465-1ba1-443c-8d08-94e93f9c5f48",
   "metadata": {},
   "outputs": [],
   "source": [
    "class PCA:\n",
    "    def __init__ (self, n_components):\n",
    "        self.n_componenets = n_componenets\n",
    "        self.mean = None\n",
    "        self.components = None\n",
    "    def fit(self, X):\n",
    "        # mean\n",
    "        self.mean = np.mean(X, axis = 0)\n",
    "        X = X- self.mean\n",
    "        # covaraiance\n",
    "        cov = np.cov(X.T)\n",
    "        # eigenvalues, eigenvector\n",
    "        eigenvalues, eigenvectors = np.linalg.eig(cov)\n",
    "        eigenvectors = eigenvector.T\n",
    "        idxs = np.argsort(eigenvectors)[::-1]\n",
    "        eigenvalues = eigenvalues[idxs]\n",
    "        eigenvectors = eigenvectors[idxs]\n",
    "\n",
    "#store\n",
    "        self.components = eigenvectors[0:self.n_components]\n",
    "    def transform(self, X):\n",
    "        X = X- self.mean\n",
    "        return np.dot(X,self.components.T)\n",
    "        "
   ]
  },
  {
   "cell_type": "code",
   "execution_count": null,
   "id": "37c0e897-9435-4e17-a06e-5d84eb7032eb",
   "metadata": {},
   "outputs": [],
   "source": []
  }
 ],
 "metadata": {
  "kernelspec": {
   "display_name": "Python 3 (ipykernel)",
   "language": "python",
   "name": "python3"
  },
  "language_info": {
   "codemirror_mode": {
    "name": "ipython",
    "version": 3
   },
   "file_extension": ".py",
   "mimetype": "text/x-python",
   "name": "python",
   "nbconvert_exporter": "python",
   "pygments_lexer": "ipython3",
   "version": "3.10.12"
  }
 },
 "nbformat": 4,
 "nbformat_minor": 5
}
