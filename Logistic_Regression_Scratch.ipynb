{
 "cells": [
  {
   "cell_type": "code",
   "execution_count": 1,
   "id": "d297dc81-da77-434b-b7b5-6d2458268dde",
   "metadata": {},
   "outputs": [],
   "source": [
    "import numpy as np"
   ]
  },
  {
   "cell_type": "code",
   "execution_count": 23,
   "id": "8bc1ba67-88fb-429a-8a36-19556ea19fce",
   "metadata": {},
   "outputs": [],
   "source": [
    "class LogisticRegression():\n",
    "    def __init__(self,lr = 0.001, n_iter = 1000):\n",
    "        self.lr = lr\n",
    "        self.n_iter = n_iter\n",
    "        self.weights = None\n",
    "        self.bias = None\n",
    "        \n",
    "#fit the training data    \n",
    "    def fit(self,X,y):\n",
    "        n_samples, n_features = X.shape\n",
    "        self.weights = np.zeros(n_features)\n",
    "        self.bias = 0\n",
    "        \n",
    "# predict and gradient descent for number of iterations\n",
    "        for _ in range(self.n_iter):\n",
    "            z = np.dot(X,self.weights)+self.bias\n",
    "            y_pred = self._sigmoid(z)\n",
    "            \n",
    "            #back propagation\n",
    "            dW =1/n_samples *np.dot(X.T,(y-y_pred))\n",
    "            db = 1/n_samples * np.sum(y-y_pred)\n",
    "            \n",
    "            #update the model parameters\n",
    "            self.weights -=self.lr*dW\n",
    "            self.bias -= self.lr*db\n",
    "            \n",
    "    def predict(self,X):\n",
    "        z = np.dot(X,self.weights) + self.bias\n",
    "        y_pred = self._sigmoid(z)\n",
    "        y_out_class = [1 if i>= 0.5 else 0 for i in y_pred]\n",
    "        return y_out_class\n",
    "        \n",
    "    def _sigmoid(self,z):\n",
    "        return 1/(1+np.exp(-z))"
   ]
  },
  {
   "cell_type": "code",
   "execution_count": 27,
   "id": "b836fa93-42e2-40ec-9461-8047badca96f",
   "metadata": {},
   "outputs": [
    {
     "name": "stdout",
     "output_type": "stream",
     "text": [
      "LR classification accuracy: 0.6052631578947368\n"
     ]
    }
   ],
   "source": [
    "# Testing\n",
    "if __name__ == \"__main__\":\n",
    "    # Imports\n",
    "    from sklearn.model_selection import train_test_split\n",
    "    from sklearn import datasets\n",
    "\n",
    "    def accuracy(y_true, y_pred):\n",
    "        accuracy = np.sum(y_true == y_pred) / len(y_true)\n",
    "        return accuracy\n",
    "\n",
    "    bc = datasets.load_breast_cancer()\n",
    "    X, y = bc.data, bc.target\n",
    "\n",
    "    X_train, X_test, y_train, y_test = train_test_split(\n",
    "        X, y, test_size=0.2, random_state=1234\n",
    "    )\n",
    "\n",
    "    regressor = LogisticRegression(lr=0.001, n_iter=1000)\n",
    "    regressor.fit(X_train, y_train)\n",
    "    predictions = regressor.predict(X_test)\n",
    "\n",
    "    print(\"LR classification accuracy:\", accuracy(y_test, predictions))"
   ]
  },
  {
   "cell_type": "code",
   "execution_count": null,
   "id": "f9cab9da-3929-4ff2-afda-e2fd71cbd658",
   "metadata": {},
   "outputs": [],
   "source": []
  }
 ],
 "metadata": {
  "kernelspec": {
   "display_name": "Python 3 (ipykernel)",
   "language": "python",
   "name": "python3"
  },
  "language_info": {
   "codemirror_mode": {
    "name": "ipython",
    "version": 3
   },
   "file_extension": ".py",
   "mimetype": "text/x-python",
   "name": "python",
   "nbconvert_exporter": "python",
   "pygments_lexer": "ipython3",
   "version": "3.10.12"
  }
 },
 "nbformat": 4,
 "nbformat_minor": 5
}
